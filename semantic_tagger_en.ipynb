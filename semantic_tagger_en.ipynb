{
 "cells": [
  {
   "cell_type": "markdown",
   "id": "aec87485",
   "metadata": {},
   "source": [
    "# Semantic Tagger (English)\n",
    "\n",
    "In this notebook, you will use [Python Multilingual Ucrel Semantic Analysis System (PyMUSAS)](https://ucrel.github.io/pymusas/) to tag your text data so that you can extract token level semantic tags from the tagged text. PyMUSAS, is a rule based token and Multi Word Expression (MWE) semantic tagger. The tagger can support any semantic tagset, however the currently released tagset is for the [Ucrel Semantic Analysis System (USAS)](https://ucrel.lancs.ac.uk/usas/) sematic tags. \n",
    "\n",
    "In addition to the USAS tags, you will also see the lemmas and Part-ofSpeech (POS) tags in the text. For English, the tagger also identifies and tags Multi Word Expressions (MWE), i.e., expressions formed by two or more words that behave like a unit such as 'South Australia'.\n",
    "\n",
    "\n",
    "**Note:** This code has been adapted from the [PyMUSAS GitHub page](https://github.com/UCREL/pymusas) and modified to run on a Jupyter Notebook. PyMUSAS is an open-source project that has been created and funded by the [University Centre for Computer Corpus Research on Language (UCREL)](https://ucrel.lancs.ac.uk/) at [Lancaster University](https://www.lancaster.ac.uk/). For more information about PyMUSAS, please visit [the Usage Guides page](https://ucrel.github.io/pymusas/). The semantic tagger’s USAS evaluation is outlined in [this paper](https://www.lancaster.ac.uk/staff/rayson/publications/usas_lrec04ws.pdf).\n",
    "\n",
    "<div class=\"alert alert-block alert-warning\">\n",
    "<b>User guide to using a Jupyter Notebook</b> \n",
    "\n",
    "If you are new to Jupyter Notebook, feel free to take a quick look at [this user guide](https://github.com/Australian-Text-Analytics-Platform/semantic-tagger/blob/main/documents/jupyter-notebook-guide.pdf) for basic information on how to use a notebook.\n",
    "</div>"
   ]
  },
  {
   "cell_type": "markdown",
   "id": "91c2e31b",
   "metadata": {},
   "source": [
    "## 1. Setup\n",
    "Before you begin, you need to import the SemanticTagger and the necessary libraries and initiate them to run in this notebook."
   ]
  },
  {
   "cell_type": "code",
   "execution_count": 1,
   "id": "416d2481",
   "metadata": {},
   "outputs": [
    {
     "name": "stderr",
     "output_type": "stream",
     "text": [
      "[nltk_data] Downloading package punkt to /Users/sjuf9909/nltk_data...\n",
      "[nltk_data]   Package punkt is already up-to-date!\n"
     ]
    },
    {
     "name": "stdout",
     "output_type": "stream",
     "text": [
      "Loading spaCy language model...\n",
      "This may take a while...\n",
      "Finished loading.\n"
     ]
    }
   ],
   "source": [
    "# import the SemanticTagger\n",
    "from semantic_tagger_en import SemanticTagger, DownloadFileLink\n",
    "\n",
    "# initialize the SemanticTagger\n",
    "st = SemanticTagger()"
   ]
  },
  {
   "cell_type": "markdown",
   "id": "ec771d6f",
   "metadata": {},
   "source": [
    "<div class=\"alert alert-block alert-danger\">\n",
    "<b>Multi Word Expression (MWE)</b> \n",
    "    \n",
    "Below, you can choose to also identify and tag Multi Word Expressions (MWE), i.e., expressions formed by two or more words that behave like a unit such as 'South Australia'. However, please be aware that selecting the MWE option will make the extraction process much slower.\n",
    "</div>"
   ]
  },
  {
   "cell_type": "code",
   "execution_count": 2,
   "id": "5ed6235b",
   "metadata": {},
   "outputs": [
    {
     "data": {
      "application/vnd.jupyter.widget-view+json": {
       "model_id": "ef66ef6aed25432996e07a636b66605b",
       "version_major": 2,
       "version_minor": 0
      },
      "text/plain": [
       "VBox(children=(HTML(value='Would you like to include multi-word expressions (mwe)?', placeholder=''), RadioBut…"
      ]
     },
     "metadata": {},
     "output_type": "display_data"
    }
   ],
   "source": [
    "# select whether to include mwe extractions\n",
    "st.mwe_widget()"
   ]
  },
  {
   "cell_type": "markdown",
   "id": "a9cdbd1e",
   "metadata": {},
   "source": [
    "## 2. Load the data\n",
    "This notebook will allow you to tag text data in a text file (or a number of text files). Alternatively, you can also tag text inside a text column inside your excel spreadsheet ([see an example here](https://github.com/Sydney-Informatics-Hub/HASS-29_Quotation_Tool/blob/main/documents/sample_texts.xlsx)).  \n",
    "\n",
    "<table style='margin-left: 10px'><tr>\n",
    "<td> <img src='./img/txt_icon.png' style='width: 45px'/> </td>\n",
    "<td> <img src='./img/xlsx_icon.png' style='width: 55px'/> </td>\n",
    "<td> <img src='./img/csv_icon.png' style='width: 45px'/> </td>\n",
    "<td> <img src='./img/zip_icon.png' style='width: 45px'/> </td>\n",
    "</tr></table>\n",
    "\n",
    "<div class=\"alert alert-block alert-warning\">\n",
    "<b>Uploading your text files</b> \n",
    "    \n",
    "If you have a large number of text files (more than 10MB in total), we suggest you compress (zip) them and upload the zip file instead. If you need assistance on how to compress your file, please check [the user guide](https://github.com/Australian-Text-Analytics-Platform/semantic-tagger/blob/main/documents/jupyter-notebook-guide.pdf) for more info. \n",
    "</div>\n",
    "\n",
    "<div class=\"alert alert-block alert-danger\">\n",
    "<b>Large file upload</b> \n",
    "    \n",
    "If you have ongoing issues with the file upload, please re-launch the notebook via Binder again. If the issue persists, consider restarting your computer.\n",
    "</div>"
   ]
  },
  {
   "cell_type": "code",
   "execution_count": 3,
   "id": "97a1ee8b",
   "metadata": {},
   "outputs": [
    {
     "data": {
      "application/vnd.jupyter.widget-view+json": {
       "model_id": "dce672eb615c4286b5fb91e085ab0cab",
       "version_major": 2,
       "version_minor": 0
      },
      "text/plain": [
       "VBox(children=(FileUpload(value={}, accept='.txt, .xlsx, .csv, .zip', description='Upload your files (txt, csv…"
      ]
     },
     "metadata": {},
     "output_type": "display_data"
    },
    {
     "name": "stdout",
     "output_type": "stream",
     "text": [
      "Uploading large files may take a while. Please be patient.\n"
     ]
    }
   ],
   "source": [
    "# upload the text files and/or excel spreadsheets onto the system\n",
    "display(st.upload_box)\n",
    "print('Uploading large files may take a while. Please be patient.')"
   ]
  },
  {
   "cell_type": "code",
   "execution_count": 4,
   "id": "70453326",
   "metadata": {},
   "outputs": [
    {
     "data": {
      "text/html": [
       "<div>\n",
       "<style scoped>\n",
       "    .dataframe tbody tr th:only-of-type {\n",
       "        vertical-align: middle;\n",
       "    }\n",
       "\n",
       "    .dataframe tbody tr th {\n",
       "        vertical-align: top;\n",
       "    }\n",
       "\n",
       "    .dataframe thead th {\n",
       "        text-align: right;\n",
       "    }\n",
       "</style>\n",
       "<table border=\"1\" class=\"dataframe\">\n",
       "  <thead>\n",
       "    <tr style=\"text-align: right;\">\n",
       "      <th></th>\n",
       "      <th>text_name</th>\n",
       "      <th>text</th>\n",
       "      <th>text_id</th>\n",
       "    </tr>\n",
       "  </thead>\n",
       "  <tbody>\n",
       "    <tr>\n",
       "      <th>0</th>\n",
       "      <td>text9</td>\n",
       "      <td>Federated States of Micronesia President David...</td>\n",
       "      <td>eca12a4fb0a8864c2f5b172384826154</td>\n",
       "    </tr>\n",
       "    <tr>\n",
       "      <th>1</th>\n",
       "      <td>text8</td>\n",
       "      <td>(CBC News)\\nRepublican lawmakers and previous ...</td>\n",
       "      <td>3585d505d3c26632d50553e87a4e1e55</td>\n",
       "    </tr>\n",
       "    <tr>\n",
       "      <th>2</th>\n",
       "      <td>text6</td>\n",
       "      <td>Federated States of Micronesia President David...</td>\n",
       "      <td>826be0e0e2492a271c615361c1723cfb</td>\n",
       "    </tr>\n",
       "    <tr>\n",
       "      <th>3</th>\n",
       "      <td>text7</td>\n",
       "      <td>Facebook and Instagram, which Facebook owns, f...</td>\n",
       "      <td>e18fb5d23a6b2881b71eac559993a51f</td>\n",
       "    </tr>\n",
       "    <tr>\n",
       "      <th>4</th>\n",
       "      <td>text5</td>\n",
       "      <td>(CBC News)\\nRepublican lawmakers and previous ...</td>\n",
       "      <td>5a094c8bdba422e49d91d733d20c4613</td>\n",
       "    </tr>\n",
       "  </tbody>\n",
       "</table>\n",
       "</div>"
      ],
      "text/plain": [
       "  text_name                                               text  \\\n",
       "0     text9  Federated States of Micronesia President David...   \n",
       "1     text8  (CBC News)\\nRepublican lawmakers and previous ...   \n",
       "2     text6  Federated States of Micronesia President David...   \n",
       "3     text7  Facebook and Instagram, which Facebook owns, f...   \n",
       "4     text5  (CBC News)\\nRepublican lawmakers and previous ...   \n",
       "\n",
       "                            text_id  \n",
       "0  eca12a4fb0a8864c2f5b172384826154  \n",
       "1  3585d505d3c26632d50553e87a4e1e55  \n",
       "2  826be0e0e2492a271c615361c1723cfb  \n",
       "3  e18fb5d23a6b2881b71eac559993a51f  \n",
       "4  5a094c8bdba422e49d91d733d20c4613  "
      ]
     },
     "execution_count": 4,
     "metadata": {},
     "output_type": "execute_result"
    }
   ],
   "source": [
    "# display uploaded text\n",
    "n=5\n",
    "\n",
    "st.text_df.head(n)"
   ]
  },
  {
   "cell_type": "markdown",
   "id": "6d7a4413",
   "metadata": {},
   "source": [
    "## 3. Add Semantic Tags\n",
    "Once your texts have been uploaded, you can begin to add semantic tags to the texts and download the results to your computer. \n",
    "\n",
    "<div class=\"alert alert-block alert-info\">\n",
    "<b>Tools:</b>    \n",
    "\n",
    "- PyMUSAS RuleBasedTagger: for adding USAS token tags.\n",
    "- spaCy: for adding lemma and POS tags.\n",
    "</div>\n",
    "\n",
    "<div class=\"alert alert-block alert-danger\">\n",
    "<b>Memory limitation in Binder</b> \n",
    "    \n",
    "The free Binder deployment is only guaranteed a maximum of 2GB memory. Processing very large text files may cause the session (kernel) to re-start due to insufficient memory. Check [the user guide](https://github.com/Australian-Text-Analytics-Platform/semantic-tagger/blob/main/documents/jupyter-notebook-guide.pdf) for more info. \n",
    "</div>"
   ]
  },
  {
   "cell_type": "code",
   "execution_count": 5,
   "id": "a16e8711",
   "metadata": {},
   "outputs": [
    {
     "name": "stdout",
     "output_type": "stream",
     "text": [
      "Processing and adding semantic tags to your texts.\n",
      "The counter will start soon. Please be patient...\n"
     ]
    },
    {
     "name": "stderr",
     "output_type": "stream",
     "text": [
      "100%|███████████████████████████████████████████| 10/10 [00:05<00:00,  1.92it/s]\n"
     ]
    }
   ],
   "source": [
    "# add semantic taggers to the uploaded texts\n",
    "print('Processing and adding semantic tags to your texts.')\n",
    "print('The counter will start soon. Please be patient...')\n",
    "st.tag_text()"
   ]
  },
  {
   "cell_type": "markdown",
   "id": "bb13ad6b",
   "metadata": {},
   "source": [
    "Once you have tagged the texts, you can display them in the dataframe (table format) below. All you need to do is to select the tagged text you wish to display and click the 'Display tagged text' button. You can also filter the text to only display certain pos tagging or usas tagging only (multiple filter selections are possible)."
   ]
  },
  {
   "cell_type": "code",
   "execution_count": 6,
   "id": "3c72b328",
   "metadata": {
    "tags": []
   },
   "outputs": [
    {
     "data": {
      "application/vnd.jupyter.widget-view+json": {
       "model_id": "06cafa31559841b0b7ab0831667dfebb",
       "version_major": 2,
       "version_minor": 0
      },
      "text/plain": [
       "VBox(children=(HBox(children=(VBox(children=(HBox(children=(HTML(value='<b>Select text:</b>', placeholder=''),…"
      ]
     },
     "metadata": {},
     "output_type": "display_data"
    }
   ],
   "source": [
    "# display tagged text\n",
    "st.display_two_tag_texts()"
   ]
  },
  {
   "cell_type": "markdown",
   "id": "9c28341e",
   "metadata": {},
   "source": [
    "<div class=\"alert alert-block alert-warning\">\n",
    "<b>What information is included in the above table?</b> \n",
    "\n",
    "**token:** each token in the sentence, e.g., word, punctuation, etc.\n",
    "    \n",
    "**lemma** the lemma of the token.\n",
    "    \n",
    "**pos:** part-of-speech tag of the token.\n",
    "    \n",
    "**start_index/end_index (mwe option only):** the start and end indices of the token(s).\n",
    "    \n",
    "**mwe (mwe option only):** whether the token is part of a multi-word expression.\n",
    "    \n",
    "**usas_tags:** the the Ucrel Semantic Analysis System (USAS) sematic tag of the token.\n",
    "    \n",
    "**usas_tags_def:** the definition of the USAS tag of the token.\n",
    "</div>"
   ]
  },
  {
   "cell_type": "markdown",
   "id": "86559f23",
   "metadata": {},
   "source": [
    "<div class=\"alert alert-block alert-danger\">\n",
    "<b>Analyse the tagged text</b> \n",
    "\n",
    "You can also analyse the tagged texts using simple visualizations below. To do so, please select the text (including 'all texts') and the entity to analyse, and click 'Show top entities' button. To check the top words in each entity (e.g., top USAS tag 'Personal names' in the text), select the drop down options on the right (multiple selections possible) and click 'Show top words' to display. To save the displayed charts, click the 'Save analysis' button. \n",
    "</div>\n",
    "\n"
   ]
  },
  {
   "cell_type": "code",
   "execution_count": 7,
   "id": "a9524116",
   "metadata": {},
   "outputs": [
    {
     "data": {
      "application/vnd.jupyter.widget-view+json": {
       "model_id": "f5d5f98253934aa381945f294881e51f",
       "version_major": 2,
       "version_minor": 0
      },
      "text/plain": [
       "HBox(children=(VBox(children=(HBox(children=(HTML(value='<b>Select text:</b>', placeholder=''), Combobox(value…"
      ]
     },
     "metadata": {},
     "output_type": "display_data"
    }
   ],
   "source": [
    "# analyse tagged texts\n",
    "st.analyse_two_tags()"
   ]
  },
  {
   "cell_type": "markdown",
   "id": "4cfd85ae",
   "metadata": {},
   "source": [
    "## 4. Save tagged texts\n",
    "Finally, you can run the below code to save the tagged text dataframe into an Excel spreadsheet and download them to your local computer. Note that each tagged text will be saved as an individual sheet (up to 50 texts at a time)."
   ]
  },
  {
   "cell_type": "code",
   "execution_count": null,
   "id": "ef5898c6",
   "metadata": {},
   "outputs": [],
   "source": [
    "# save tagged texts\n",
    "st.save_options()"
   ]
  }
 ],
 "metadata": {
  "kernelspec": {
   "display_name": "Python 3 (ipykernel)",
   "language": "python",
   "name": "python3"
  },
  "language_info": {
   "codemirror_mode": {
    "name": "ipython",
    "version": 3
   },
   "file_extension": ".py",
   "mimetype": "text/x-python",
   "name": "python",
   "nbconvert_exporter": "python",
   "pygments_lexer": "ipython3",
   "version": "3.8.13"
  }
 },
 "nbformat": 4,
 "nbformat_minor": 5
}
